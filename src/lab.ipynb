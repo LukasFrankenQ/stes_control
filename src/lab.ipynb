{
 "cells": [
  {
   "cell_type": "code",
   "execution_count": 4,
   "metadata": {},
   "outputs": [],
   "source": [
    "import os\n",
    "import opyplus as op\n",
    "\n",
    "idf_path = os.path.join(os.getcwd(), '..', 'data', 'epm')\n",
    "weather_path = os.path.join(os.getcwd(), '..', 'data', 'weather')"
   ]
  },
  {
   "cell_type": "code",
   "execution_count": 40,
   "metadata": {},
   "outputs": [],
   "source": [
    "epm = op.Epm.load(os.path.join(idf_path, 'smalloffice_greatfalls.idf'))"
   ]
  },
  {
   "cell_type": "code",
   "execution_count": 41,
   "metadata": {},
   "outputs": [
    {
     "name": "stdout",
     "output_type": "stream",
     "text": [
      "Epm\n",
      "  AirLoopHVAC: 5 records\n",
      "  AirLoopHVAC:ControllerList: 5 records\n",
      "  AirLoopHVAC:OutdoorAirSystem: 5 records\n",
      "  AirLoopHVAC:OutdoorAirSystem:EquipmentList: 5 records\n",
      "  AirLoopHVAC:ReturnPath: 5 records\n",
      "  AirLoopHVAC:SupplyPath: 5 records\n",
      "  AirLoopHVAC:UnitaryHeatPump:AirToAir: 5 records\n",
      "  AirLoopHVAC:ZoneMixer: 5 records\n",
      "  AirLoopHVAC:ZoneSplitter: 5 records\n",
      "  AirTerminal:SingleDuct:Uncontrolled: 5 records\n",
      "  AvailabilityManager:NightCycle: 5 records\n",
      "  AvailabilityManagerAssignmentList: 5 records\n",
      "  Branch: 13 records\n",
      "  BranchList: 7 records\n",
      "  Building: 1 record\n",
      "  BuildingSurface:Detailed: 43 records\n",
      "  Coil:Cooling:DX:SingleSpeed: 5 records\n",
      "  Coil:Heating:DX:SingleSpeed: 5 records\n",
      "  Coil:Heating:Fuel: 5 records\n",
      "  Connector:Mixer: 2 records\n",
      "  Connector:Splitter: 2 records\n",
      "  ConnectorList: 2 records\n",
      "  Construction: 32 records\n",
      "  Construction:FfactorGroundFloor: 5 records\n",
      "  Controller:OutdoorAir: 5 records\n",
      "  ConvergenceLimits: 1 record\n",
      "  Curve:Biquadratic: 12 records\n",
      "  Curve:Cubic: 3 records\n",
      "  Curve:Quadratic: 19 records\n",
      "  DesignSpecification:OutdoorAir: 5 records\n",
      "  ElectricEquipment: 5 records\n",
      "  Exterior:Lights: 1 record\n",
      "  Fan:OnOff: 5 records\n",
      "  FenestrationSurface:Detailed: 23 records\n",
      "  GlobalGeometryRules: 1 record\n",
      "  HeatBalanceAlgorithm: 1 record\n",
      "  InternalMass: 5 records\n",
      "  Lights: 5 records\n",
      "  Material: 18 records\n",
      "  Material:NoMass: 13 records\n",
      "  NodeList: 10 records\n",
      "  OutdoorAir:Mixer: 5 records\n",
      "  OutdoorAir:Node: 5 records\n",
      "  OutdoorAir:NodeList: 5 records\n",
      "  Output:Meter:MeterFileOnly: 3 records\n",
      "  Output:Table:Monthly: 9 records\n",
      "  Output:Table:SummaryReports: 1 record\n",
      "  OutputControl:ReportingTolerances: 1 record\n",
      "  OutputControl:Table:Style: 1 record\n",
      "  People: 5 records\n",
      "  Pipe:Adiabatic: 5 records\n",
      "  PlantEquipmentList: 1 record\n",
      "  PlantEquipmentOperation:HeatingLoad: 1 record\n",
      "  PlantEquipmentOperationSchemes: 1 record\n",
      "  PlantLoop: 1 record\n",
      "  Pump:ConstantSpeed: 1 record\n",
      "  RunPeriod: 1 record\n",
      "  RunPeriodControl:DaylightSavingTime: 1 record\n",
      "  RunPeriodControl:SpecialDays: 10 records\n",
      "  Schedule:Compact: 50 records\n",
      "  ScheduleTypeLimits: 7 records\n",
      "  SetpointManager:MixedAir: 5 records\n",
      "  SetpointManager:Scheduled: 1 record\n",
      "  SetpointManager:SingleZone:Cooling: 5 records\n",
      "  SetpointManager:SingleZone:Heating: 5 records\n",
      "  ShadowCalculation: 1 record\n",
      "  SimulationControl: 1 record\n",
      "  Site:GroundTemperature:FCfactorMethod: 1 record\n",
      "  Site:Location: 1 record\n",
      "  Site:WaterMainsTemperature: 1 record\n",
      "  Sizing:Parameters: 1 record\n",
      "  Sizing:Plant: 1 record\n",
      "  Sizing:System: 5 records\n",
      "  Sizing:Zone: 5 records\n",
      "  SizingPeriod:DesignDay: 2 records\n",
      "  SurfaceConvectionAlgorithm:Inside: 1 record\n",
      "  SurfaceConvectionAlgorithm:Outside: 1 record\n",
      "  ThermostatSetpoint:DualSetpoint: 5 records\n",
      "  Timestep: 1 record\n",
      "  Version: 1 record\n",
      "  WaterHeater:Mixed: 1 record\n",
      "  WaterUse:Connections: 1 record\n",
      "  WaterUse:Equipment: 1 record\n",
      "  WindowMaterial:SimpleGlazingSystem: 1 record\n",
      "  Zone: 6 records\n",
      "  ZoneControl:Thermostat: 5 records\n",
      "  ZoneHVAC:EquipmentConnections: 5 records\n",
      "  ZoneHVAC:EquipmentList: 5 records\n",
      "  ZoneInfiltration:DesignFlowRate: 6 records\n"
     ]
    }
   ],
   "source": [
    "print(epm)"
   ]
  },
  {
   "cell_type": "code",
   "execution_count": 42,
   "metadata": {},
   "outputs": [
    {
     "name": "stdout",
     "output_type": "stream",
     "text": [
      "Zone,\n",
      "    attic,                         ! Name\n",
      "    0.0,                           ! Direction of Relative North\n",
      "    0.0,                           ! X Origin\n",
      "    0.0,                           ! Y Origin\n",
      "    0.0,                           ! Z Origin\n",
      "    1,                             ! Type\n",
      "    1,                             ! Multiplier\n",
      "    autocalculate,                 ! Ceiling Height\n",
      "    autocalculate,                 ! Volume\n",
      "    autocalculate,                 ! Floor Area\n",
      "    ,                              ! Zone Inside Convection Algorithm\n",
      "    ,                              ! Zone Outside Convection Algorithm\n",
      "    no;                            ! Part of Total Floor Area\n",
      "Zone,\n",
      "    core_zn,                       ! Name\n",
      "    0.0,                           ! Direction of Relative North\n",
      "    0.0,                           ! X Origin\n",
      "    0.0,                           ! Y Origin\n",
      "    0.0,                           ! Z Origin\n",
      "    1,                             ! Type\n",
      "    1,                             ! Multiplier\n",
      "    autocalculate,                 ! Ceiling Height\n",
      "    autocalculate,                 ! Volume\n",
      "    autocalculate,                 ! Floor Area\n",
      "    ,                              ! Zone Inside Convection Algorithm\n",
      "    ,                              ! Zone Outside Convection Algorithm\n",
      "    yes;                           ! Part of Total Floor Area\n"
     ]
    }
   ],
   "source": [
    "qs = epm.Zone.select(lambda x: x.name == 'attic')\n",
    "print(qs[0])\n",
    "\n",
    "qs = epm.Zone.select(lambda x: x.name == 'core_zn')\n",
    "print(qs[0])"
   ]
  },
  {
   "cell_type": "code",
   "execution_count": 43,
   "metadata": {},
   "outputs": [
    {
     "name": "stdout",
     "output_type": "stream",
     "text": [
      "Table Zone (Zone)\n",
      "  attic\n",
      "  core_zn\n",
      "  perimeter_zn_1\n",
      "  perimeter_zn_2\n",
      "  perimeter_zn_3\n",
      "  perimeter_zn_4\n"
     ]
    }
   ],
   "source": [
    "print(epm.Zone)"
   ]
  },
  {
   "cell_type": "code",
   "execution_count": 44,
   "metadata": {},
   "outputs": [],
   "source": [
    "# add from a table\n",
    "new_sch = epm.Schedule_Compact.add(\n",
    "    name=\"Heating Setpoint Schedule - new[1]\",\n",
    "    schedule_type_limits_name=\"Any Number\",\n",
    "    field_1=\"Through: 12/24-12/31\",\n",
    "    field_2=\"For: AllDays\",\n",
    "    field_3=\"Until: 24:00,20.0\"\n",
    ")"
   ]
  },
  {
   "cell_type": "code",
   "execution_count": 45,
   "metadata": {},
   "outputs": [
    {
     "name": "stdout",
     "output_type": "stream",
     "text": [
      "Schedule:Compact,\n",
      "    heating setpoint schedule - new[1],    ! Name\n",
      "    any number,                    ! Schedule Type Limits Name\n",
      "    through: 12/24-12/31,          ! Field 1\n",
      "    for: alldays,                  ! Field 2\n",
      "    until: 24:00,20.0;             ! Field 3\n"
     ]
    }
   ],
   "source": [
    "print(new_sch)"
   ]
  },
  {
   "cell_type": "code",
   "execution_count": 46,
   "metadata": {},
   "outputs": [],
   "source": [
    "epm.save(os.path.join(idf_path, 'changed.idf'))"
   ]
  },
  {
   "cell_type": "code",
   "execution_count": null,
   "metadata": {},
   "outputs": [],
   "source": []
  }
 ],
 "metadata": {
  "interpreter": {
   "hash": "f9bef397ef5e7b2d367b3209d88d895d60e5cf9367d4dd0bd56847f579153646"
  },
  "kernelspec": {
   "display_name": "Python 3.8.0 64-bit",
   "language": "python",
   "name": "python3"
  },
  "language_info": {
   "codemirror_mode": {
    "name": "ipython",
    "version": 3
   },
   "file_extension": ".py",
   "mimetype": "text/x-python",
   "name": "python",
   "nbconvert_exporter": "python",
   "pygments_lexer": "ipython3",
   "version": "3.8.0"
  },
  "orig_nbformat": 4
 },
 "nbformat": 4,
 "nbformat_minor": 2
}
