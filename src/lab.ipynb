{
 "cells": [
  {
   "cell_type": "code",
   "execution_count": 27,
   "metadata": {},
   "outputs": [],
   "source": [
    "import numpy as np\n",
    "import pandas as pd\n",
    "import matplotlib.pyplot as plt\n",
    "from besos import eppy_funcs as ef, sampling\n",
    "import os\n",
    "plt.style.use('bmh')\n",
    "\n",
    "from utils.idf_utils import set_runperiod, show_runperiod"
   ]
  },
  {
   "cell_type": "code",
   "execution_count": 28,
   "metadata": {},
   "outputs": [
    {
     "name": "stdout",
     "output_type": "stream",
     "text": [
      "Before:\n",
      "[\n",
      "RunPeriod,\n",
      "    ,                         !- Name\n",
      "    1,                        !- Begin Month\n",
      "    1,                        !- Begin Day of Month\n",
      "    ,                         !- Begin Year\n",
      "    12,                       !- End Month\n",
      "    31,                       !- End Day of Month\n",
      "    ,                         !- End Year\n",
      "    Sunday,                   !- Day of Week for Start Day\n",
      "    No,                       !- Use Weather File Holidays and Special Days\n",
      "    No,                       !- Use Weather File Daylight Saving Period\n",
      "    No,                       !- Apply Weekend Holiday Rule\n",
      "    Yes,                      !- Use Weather File Rain Indicators\n",
      "    Yes;                      !- Use Weather File Snow Indicators\n",
      "]\n",
      "After:\n",
      "[\n",
      "RunPeriod,\n",
      "    ,                         !- Name\n",
      "    1,                        !- Begin Month\n",
      "    1,                        !- Begin Day of Month\n",
      "    2020,                     !- Begin Year\n",
      "    1,                        !- End Month\n",
      "    8,                        !- End Day of Month\n",
      "    2020,                     !- End Year\n",
      "    Sunday,                   !- Day of Week for Start Day\n",
      "    No,                       !- Use Weather File Holidays and Special Days\n",
      "    No,                       !- Use Weather File Daylight Saving Period\n",
      "    No,                       !- Apply Weekend Holiday Rule\n",
      "    Yes,                      !- Use Weather File Rain Indicators\n",
      "    Yes;                      !- Use Weather File Snow Indicators\n",
      "]\n"
     ]
    }
   ],
   "source": [
    "weather_path = os.path.join(os.getcwd(), '..', 'data', 'weather')\n",
    "idf_path = os.path.join(os.getcwd(), '..', 'data', 'epm')\n",
    "\n",
    "b = ef.get_building(os.path.join(idf_path, 'smalloffice.idf'))\n",
    "start = '2020-01-01'\n",
    "end = '2020-01-08'\n",
    "\n",
    "print('Before:')\n",
    "show_runperiod(b)\n",
    "set_runperiod(b, start=start, end=end)\n",
    "print('After:')\n",
    "show_runperiod(b)"
   ]
  },
  {
   "cell_type": "code",
   "execution_count": 2,
   "metadata": {},
   "outputs": [],
   "source": [
    "import besos\n",
    "import matplotlib.pyplot as plt\n",
    "plt.style.use('bmh')\n",
    "import numpy as np\n",
    "import seaborn as sns\n",
    "import pandas as pd\n",
    "import os\n",
    "from besos import eppy_funcs as ef, sampling\n",
    "from besos.evaluator import EvaluatorEP\n",
    "from besos.parameters import FieldSelector, Parameter, RangeParameter\n",
    "from besos.problem import EPProblem\n",
    "from ipywidgets import FloatSlider, interact\n",
    "from sklearn import linear_model, pipeline\n",
    "from sklearn.preprocessing import StandardScaler\n",
    "\n",
    "\n",
    "def besos_run(building):\n",
    "    '''\n",
    "    function to test how the model is running\n",
    "    '''\n",
    "\n",
    "    parameters = [\n",
    "        Parameter(\n",
    "            FieldSelector(\n",
    "                object_name='NonRes Fixed Assembly Window',\n",
    "                field_name='Solar Heat Gain Coefficient'\n",
    "            ),\n",
    "            value_descriptors=RangeParameter(0.01, 0.99),\n",
    "        ),\n",
    "        Parameter(\n",
    "            FieldSelector('Lights', '*', 'Watts per Zone Floor Area'),\n",
    "            value_descriptors=RangeParameter(8, 12),\n",
    "            name='Light Watts/Area',\n",
    "        ),\n",
    "        ]\n",
    "\n",
    "    objectives = ['Electricity:Facility']\n",
    "    problem = EPProblem(parameters, objectives)\n",
    "\n",
    "    inputs = sampling.dist_sampler(sampling.lhs, problem, 5)\n",
    "\n",
    "    print(inputs)\n",
    "    inputs.describe()\n",
    "\n",
    "    evaluator = EvaluatorEP(problem, building)\n",
    "    train = evaluator.df_apply(inputs, keep_input=True)\n",
    "    train.head()\n",
    "\n",
    "weather_path = os.path.join(os.getcwd(), '..', 'data', 'weather')\n",
    "idf_path = os.path.join(os.getcwd(), '..', 'data', 'epm')\n",
    "\n",
    "b = ef.get_building(os.path.join(idf_path, 'smalloffice.idf'))\n",
    "# b = ef.get_building(os.path.join(idf_path, 'in.idf'))\n",
    "# besos_run(b)"
   ]
  },
  {
   "cell_type": "code",
   "execution_count": 5,
   "metadata": {},
   "outputs": [
    {
     "name": "stderr",
     "output_type": "stream",
     "text": [
      "called Simulation.from_input on a simulation directory that is not empty (dump)\n"
     ]
    }
   ],
   "source": [
    "import pandas as pd\n",
    "import opyplus as op\n",
    "\n",
    "def opyplus_run(idf_path, weather_path, output_dir):\n",
    "    '''\n",
    "    test_run\n",
    "    '''\n",
    "    epath = op.get_eplus_base_dir_path((9, 0, 1))\n",
    "\n",
    "    s = op.simulate(idf_path, weather_path, output_dir)\n",
    "\n",
    "    # results = pd.read_csv(os.path.join(output_dir, 'eplus\n",
    "\n",
    "\n",
    "\n",
    "\n",
    "idf_path = os.path.join(os.getcwd(), '..', 'data', 'epm')\n",
    "\n",
    "idf_path = os.path.join(idf_path, 'smalloffice.idf')\n",
    "weather_path = os.path.join(os.getcwd(), '..', 'data',\n",
    "                            'weather', 'greatfalls.epw')\n",
    "out = os.path.join('dump')\n",
    "opyplus_run(idf_path, weather_path, out)\n"
   ]
  },
  {
   "cell_type": "code",
   "execution_count": null,
   "metadata": {},
   "outputs": [],
   "source": []
  }
 ],
 "metadata": {
  "interpreter": {
   "hash": "f9bef397ef5e7b2d367b3209d88d895d60e5cf9367d4dd0bd56847f579153646"
  },
  "kernelspec": {
   "display_name": "Python 3.8.0 64-bit",
   "language": "python",
   "name": "python3"
  },
  "language_info": {
   "codemirror_mode": {
    "name": "ipython",
    "version": 3
   },
   "file_extension": ".py",
   "mimetype": "text/x-python",
   "name": "python",
   "nbconvert_exporter": "python",
   "pygments_lexer": "ipython3",
   "version": "3.8.0"
  },
  "orig_nbformat": 4
 },
 "nbformat": 4,
 "nbformat_minor": 2
}
